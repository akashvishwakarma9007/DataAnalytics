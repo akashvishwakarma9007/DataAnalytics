{
 "cells": [
  {
   "cell_type": "code",
   "execution_count": 2,
   "metadata": {},
   "outputs": [],
   "source": [
    "# Importing required python modules and libraries:"
   ]
  },
  {
   "cell_type": "code",
   "execution_count": 3,
   "metadata": {},
   "outputs": [],
   "source": [
    "\n",
    "import math\n",
    "import numpy as np\n",
    "import pandas as pd\n",
    "from pandas import Series,DataFrame\n",
    "import matplotlib.pyplot as plt\n",
    "import seaborn as sns"
   ]
  },
  {
   "cell_type": "code",
   "execution_count": 4,
   "metadata": {},
   "outputs": [],
   "source": [
    "import plotly.express as px\n",
    "import plotly.graph_objects as go"
   ]
  },
  {
   "cell_type": "code",
   "execution_count": 11,
   "metadata": {},
   "outputs": [],
   "source": [
    "ipl_alltime=pd.read_csv(r'E:\\My downloads\\IPL_Ball_by_Ball_2008_2022.csv')"
   ]
  },
  {
   "cell_type": "code",
   "execution_count": 34,
   "metadata": {},
   "outputs": [],
   "source": [
    "ipl_match=pd.read_csv(r'E:\\My downloads\\IPL_Matches_2008_2022.csv')"
   ]
  },
  {
   "cell_type": "code",
   "execution_count": 35,
   "metadata": {},
   "outputs": [
    {
     "data": {
      "text/html": [
       "<div>\n",
       "<style scoped>\n",
       "    .dataframe tbody tr th:only-of-type {\n",
       "        vertical-align: middle;\n",
       "    }\n",
       "\n",
       "    .dataframe tbody tr th {\n",
       "        vertical-align: top;\n",
       "    }\n",
       "\n",
       "    .dataframe thead th {\n",
       "        text-align: right;\n",
       "    }\n",
       "</style>\n",
       "<table border=\"1\" class=\"dataframe\">\n",
       "  <thead>\n",
       "    <tr style=\"text-align: right;\">\n",
       "      <th></th>\n",
       "      <th>ID</th>\n",
       "      <th>innings</th>\n",
       "      <th>overs</th>\n",
       "      <th>ballnumber</th>\n",
       "      <th>batter</th>\n",
       "      <th>bowler</th>\n",
       "      <th>non-striker</th>\n",
       "      <th>extra_type</th>\n",
       "      <th>batsman_run</th>\n",
       "      <th>extras_run</th>\n",
       "      <th>total_run</th>\n",
       "      <th>non_boundary</th>\n",
       "      <th>isWicketDelivery</th>\n",
       "      <th>player_out</th>\n",
       "      <th>kind</th>\n",
       "      <th>fielders_involved</th>\n",
       "      <th>BattingTeam</th>\n",
       "    </tr>\n",
       "  </thead>\n",
       "  <tbody>\n",
       "    <tr>\n",
       "      <th>0</th>\n",
       "      <td>1312200</td>\n",
       "      <td>1</td>\n",
       "      <td>0</td>\n",
       "      <td>1</td>\n",
       "      <td>YBK Jaiswal</td>\n",
       "      <td>Mohammed Shami</td>\n",
       "      <td>JC Buttler</td>\n",
       "      <td>NaN</td>\n",
       "      <td>0</td>\n",
       "      <td>0</td>\n",
       "      <td>0</td>\n",
       "      <td>0</td>\n",
       "      <td>0</td>\n",
       "      <td>NaN</td>\n",
       "      <td>NaN</td>\n",
       "      <td>NaN</td>\n",
       "      <td>Rajasthan Royals</td>\n",
       "    </tr>\n",
       "    <tr>\n",
       "      <th>1</th>\n",
       "      <td>1312200</td>\n",
       "      <td>1</td>\n",
       "      <td>0</td>\n",
       "      <td>2</td>\n",
       "      <td>YBK Jaiswal</td>\n",
       "      <td>Mohammed Shami</td>\n",
       "      <td>JC Buttler</td>\n",
       "      <td>legbyes</td>\n",
       "      <td>0</td>\n",
       "      <td>1</td>\n",
       "      <td>1</td>\n",
       "      <td>0</td>\n",
       "      <td>0</td>\n",
       "      <td>NaN</td>\n",
       "      <td>NaN</td>\n",
       "      <td>NaN</td>\n",
       "      <td>Rajasthan Royals</td>\n",
       "    </tr>\n",
       "    <tr>\n",
       "      <th>2</th>\n",
       "      <td>1312200</td>\n",
       "      <td>1</td>\n",
       "      <td>0</td>\n",
       "      <td>3</td>\n",
       "      <td>JC Buttler</td>\n",
       "      <td>Mohammed Shami</td>\n",
       "      <td>YBK Jaiswal</td>\n",
       "      <td>NaN</td>\n",
       "      <td>1</td>\n",
       "      <td>0</td>\n",
       "      <td>1</td>\n",
       "      <td>0</td>\n",
       "      <td>0</td>\n",
       "      <td>NaN</td>\n",
       "      <td>NaN</td>\n",
       "      <td>NaN</td>\n",
       "      <td>Rajasthan Royals</td>\n",
       "    </tr>\n",
       "    <tr>\n",
       "      <th>3</th>\n",
       "      <td>1312200</td>\n",
       "      <td>1</td>\n",
       "      <td>0</td>\n",
       "      <td>4</td>\n",
       "      <td>YBK Jaiswal</td>\n",
       "      <td>Mohammed Shami</td>\n",
       "      <td>JC Buttler</td>\n",
       "      <td>NaN</td>\n",
       "      <td>0</td>\n",
       "      <td>0</td>\n",
       "      <td>0</td>\n",
       "      <td>0</td>\n",
       "      <td>0</td>\n",
       "      <td>NaN</td>\n",
       "      <td>NaN</td>\n",
       "      <td>NaN</td>\n",
       "      <td>Rajasthan Royals</td>\n",
       "    </tr>\n",
       "    <tr>\n",
       "      <th>4</th>\n",
       "      <td>1312200</td>\n",
       "      <td>1</td>\n",
       "      <td>0</td>\n",
       "      <td>5</td>\n",
       "      <td>YBK Jaiswal</td>\n",
       "      <td>Mohammed Shami</td>\n",
       "      <td>JC Buttler</td>\n",
       "      <td>NaN</td>\n",
       "      <td>0</td>\n",
       "      <td>0</td>\n",
       "      <td>0</td>\n",
       "      <td>0</td>\n",
       "      <td>0</td>\n",
       "      <td>NaN</td>\n",
       "      <td>NaN</td>\n",
       "      <td>NaN</td>\n",
       "      <td>Rajasthan Royals</td>\n",
       "    </tr>\n",
       "  </tbody>\n",
       "</table>\n",
       "</div>"
      ],
      "text/plain": [
       "        ID  innings  overs  ballnumber       batter          bowler  \\\n",
       "0  1312200        1      0           1  YBK Jaiswal  Mohammed Shami   \n",
       "1  1312200        1      0           2  YBK Jaiswal  Mohammed Shami   \n",
       "2  1312200        1      0           3   JC Buttler  Mohammed Shami   \n",
       "3  1312200        1      0           4  YBK Jaiswal  Mohammed Shami   \n",
       "4  1312200        1      0           5  YBK Jaiswal  Mohammed Shami   \n",
       "\n",
       "   non-striker extra_type  batsman_run  extras_run  total_run  non_boundary  \\\n",
       "0   JC Buttler        NaN            0           0          0             0   \n",
       "1   JC Buttler    legbyes            0           1          1             0   \n",
       "2  YBK Jaiswal        NaN            1           0          1             0   \n",
       "3   JC Buttler        NaN            0           0          0             0   \n",
       "4   JC Buttler        NaN            0           0          0             0   \n",
       "\n",
       "   isWicketDelivery player_out kind fielders_involved       BattingTeam  \n",
       "0                 0        NaN  NaN               NaN  Rajasthan Royals  \n",
       "1                 0        NaN  NaN               NaN  Rajasthan Royals  \n",
       "2                 0        NaN  NaN               NaN  Rajasthan Royals  \n",
       "3                 0        NaN  NaN               NaN  Rajasthan Royals  \n",
       "4                 0        NaN  NaN               NaN  Rajasthan Royals  "
      ]
     },
     "execution_count": 35,
     "metadata": {},
     "output_type": "execute_result"
    }
   ],
   "source": [
    "ipl_alltime.head(5)\n"
   ]
  },
  {
   "cell_type": "code",
   "execution_count": 36,
   "metadata": {},
   "outputs": [
    {
     "data": {
      "text/html": [
       "<div>\n",
       "<style scoped>\n",
       "    .dataframe tbody tr th:only-of-type {\n",
       "        vertical-align: middle;\n",
       "    }\n",
       "\n",
       "    .dataframe tbody tr th {\n",
       "        vertical-align: top;\n",
       "    }\n",
       "\n",
       "    .dataframe thead th {\n",
       "        text-align: right;\n",
       "    }\n",
       "</style>\n",
       "<table border=\"1\" class=\"dataframe\">\n",
       "  <thead>\n",
       "    <tr style=\"text-align: right;\">\n",
       "      <th></th>\n",
       "      <th>ID</th>\n",
       "      <th>City</th>\n",
       "      <th>Date</th>\n",
       "      <th>Season</th>\n",
       "      <th>MatchNumber</th>\n",
       "      <th>Team1</th>\n",
       "      <th>Team2</th>\n",
       "      <th>Venue</th>\n",
       "      <th>TossWinner</th>\n",
       "      <th>TossDecision</th>\n",
       "      <th>SuperOver</th>\n",
       "      <th>WinningTeam</th>\n",
       "      <th>WonBy</th>\n",
       "      <th>Margin</th>\n",
       "      <th>method</th>\n",
       "      <th>Player_of_Match</th>\n",
       "      <th>Team1Players</th>\n",
       "      <th>Team2Players</th>\n",
       "      <th>Umpire1</th>\n",
       "      <th>Umpire2</th>\n",
       "    </tr>\n",
       "  </thead>\n",
       "  <tbody>\n",
       "    <tr>\n",
       "      <th>0</th>\n",
       "      <td>1312200</td>\n",
       "      <td>Ahmedabad</td>\n",
       "      <td>2022-05-29</td>\n",
       "      <td>2022</td>\n",
       "      <td>Final</td>\n",
       "      <td>Rajasthan Royals</td>\n",
       "      <td>Gujarat Titans</td>\n",
       "      <td>Narendra Modi Stadium, Ahmedabad</td>\n",
       "      <td>Rajasthan Royals</td>\n",
       "      <td>bat</td>\n",
       "      <td>N</td>\n",
       "      <td>Gujarat Titans</td>\n",
       "      <td>Wickets</td>\n",
       "      <td>7.0</td>\n",
       "      <td>NaN</td>\n",
       "      <td>HH Pandya</td>\n",
       "      <td>['YBK Jaiswal', 'JC Buttler', 'SV Samson', 'D ...</td>\n",
       "      <td>['WP Saha', 'Shubman Gill', 'MS Wade', 'HH Pan...</td>\n",
       "      <td>CB Gaffaney</td>\n",
       "      <td>Nitin Menon</td>\n",
       "    </tr>\n",
       "    <tr>\n",
       "      <th>1</th>\n",
       "      <td>1312199</td>\n",
       "      <td>Ahmedabad</td>\n",
       "      <td>2022-05-27</td>\n",
       "      <td>2022</td>\n",
       "      <td>Qualifier 2</td>\n",
       "      <td>Royal Challengers Bangalore</td>\n",
       "      <td>Rajasthan Royals</td>\n",
       "      <td>Narendra Modi Stadium, Ahmedabad</td>\n",
       "      <td>Rajasthan Royals</td>\n",
       "      <td>field</td>\n",
       "      <td>N</td>\n",
       "      <td>Rajasthan Royals</td>\n",
       "      <td>Wickets</td>\n",
       "      <td>7.0</td>\n",
       "      <td>NaN</td>\n",
       "      <td>JC Buttler</td>\n",
       "      <td>['V Kohli', 'F du Plessis', 'RM Patidar', 'GJ ...</td>\n",
       "      <td>['YBK Jaiswal', 'JC Buttler', 'SV Samson', 'D ...</td>\n",
       "      <td>CB Gaffaney</td>\n",
       "      <td>Nitin Menon</td>\n",
       "    </tr>\n",
       "  </tbody>\n",
       "</table>\n",
       "</div>"
      ],
      "text/plain": [
       "        ID       City        Date Season  MatchNumber  \\\n",
       "0  1312200  Ahmedabad  2022-05-29   2022        Final   \n",
       "1  1312199  Ahmedabad  2022-05-27   2022  Qualifier 2   \n",
       "\n",
       "                         Team1             Team2  \\\n",
       "0             Rajasthan Royals    Gujarat Titans   \n",
       "1  Royal Challengers Bangalore  Rajasthan Royals   \n",
       "\n",
       "                              Venue        TossWinner TossDecision SuperOver  \\\n",
       "0  Narendra Modi Stadium, Ahmedabad  Rajasthan Royals          bat         N   \n",
       "1  Narendra Modi Stadium, Ahmedabad  Rajasthan Royals        field         N   \n",
       "\n",
       "        WinningTeam    WonBy  Margin method Player_of_Match  \\\n",
       "0    Gujarat Titans  Wickets     7.0    NaN       HH Pandya   \n",
       "1  Rajasthan Royals  Wickets     7.0    NaN      JC Buttler   \n",
       "\n",
       "                                        Team1Players  \\\n",
       "0  ['YBK Jaiswal', 'JC Buttler', 'SV Samson', 'D ...   \n",
       "1  ['V Kohli', 'F du Plessis', 'RM Patidar', 'GJ ...   \n",
       "\n",
       "                                        Team2Players      Umpire1      Umpire2  \n",
       "0  ['WP Saha', 'Shubman Gill', 'MS Wade', 'HH Pan...  CB Gaffaney  Nitin Menon  \n",
       "1  ['YBK Jaiswal', 'JC Buttler', 'SV Samson', 'D ...  CB Gaffaney  Nitin Menon  "
      ]
     },
     "execution_count": 36,
     "metadata": {},
     "output_type": "execute_result"
    }
   ],
   "source": [
    "\n",
    "ipl_match.head(2)"
   ]
  },
  {
   "cell_type": "code",
   "execution_count": 37,
   "metadata": {},
   "outputs": [
    {
     "name": "stdout",
     "output_type": "stream",
     "text": [
      "<class 'pandas.core.frame.DataFrame'>\n",
      "RangeIndex: 225954 entries, 0 to 225953\n",
      "Data columns (total 17 columns):\n",
      " #   Column             Non-Null Count   Dtype \n",
      "---  ------             --------------   ----- \n",
      " 0   ID                 225954 non-null  int64 \n",
      " 1   innings            225954 non-null  int64 \n",
      " 2   overs              225954 non-null  int64 \n",
      " 3   ballnumber         225954 non-null  int64 \n",
      " 4   batter             225954 non-null  object\n",
      " 5   bowler             225954 non-null  object\n",
      " 6   non-striker        225954 non-null  object\n",
      " 7   extra_type         12049 non-null   object\n",
      " 8   batsman_run        225954 non-null  int64 \n",
      " 9   extras_run         225954 non-null  int64 \n",
      " 10  total_run          225954 non-null  int64 \n",
      " 11  non_boundary       225954 non-null  int64 \n",
      " 12  isWicketDelivery   225954 non-null  int64 \n",
      " 13  player_out         11151 non-null   object\n",
      " 14  kind               11151 non-null   object\n",
      " 15  fielders_involved  7988 non-null    object\n",
      " 16  BattingTeam        225954 non-null  object\n",
      "dtypes: int64(9), object(8)\n",
      "memory usage: 29.3+ MB\n"
     ]
    }
   ],
   "source": [
    "\n",
    "ipl_alltime.info()"
   ]
  },
  {
   "cell_type": "code",
   "execution_count": 38,
   "metadata": {},
   "outputs": [
    {
     "name": "stdout",
     "output_type": "stream",
     "text": [
      "<class 'pandas.core.frame.DataFrame'>\n",
      "RangeIndex: 225954 entries, 0 to 225953\n",
      "Data columns (total 17 columns):\n",
      " #   Column             Non-Null Count   Dtype \n",
      "---  ------             --------------   ----- \n",
      " 0   ID                 225954 non-null  int64 \n",
      " 1   innings            225954 non-null  int64 \n",
      " 2   overs              225954 non-null  int64 \n",
      " 3   ballnumber         225954 non-null  int64 \n",
      " 4   batter             225954 non-null  object\n",
      " 5   bowler             225954 non-null  object\n",
      " 6   non-striker        225954 non-null  object\n",
      " 7   extra_type         12049 non-null   object\n",
      " 8   batsman_run        225954 non-null  int64 \n",
      " 9   extras_run         225954 non-null  int64 \n",
      " 10  total_run          225954 non-null  int64 \n",
      " 11  non_boundary       225954 non-null  int64 \n",
      " 12  isWicketDelivery   225954 non-null  int64 \n",
      " 13  player_out         11151 non-null   object\n",
      " 14  kind               11151 non-null   object\n",
      " 15  fielders_involved  7988 non-null    object\n",
      " 16  BattingTeam        225954 non-null  object\n",
      "dtypes: int64(9), object(8)\n",
      "memory usage: 29.3+ MB\n"
     ]
    }
   ],
   "source": [
    "\n",
    "ipl_alltime.info()"
   ]
  },
  {
   "cell_type": "code",
   "execution_count": 39,
   "metadata": {},
   "outputs": [],
   "source": [
    "# Data cleaning by filling the missing values with zero and replacing two duplicate names with single one"
   ]
  },
  {
   "cell_type": "code",
   "execution_count": 40,
   "metadata": {},
   "outputs": [],
   "source": [
    "ipl_match['City'].fillna('UAE',inplace=True)\n",
    "\n",
    "ipl_match['SuperOver'].fillna('N',inplace=True)\n",
    "\n",
    "ipl_match['WinningTeam'].fillna('No_one',inplace=True)\n",
    "\n",
    "ipl_match['Player_of_Match'].fillna('No_one',inplace=True)\n",
    "\n",
    "ipl_match['Margin'].fillna(1.00,inplace=True)\n",
    "\n",
    "ipl_match['method'].fillna('usual',inplace=True)\n"
   ]
  },
  {
   "cell_type": "code",
   "execution_count": 41,
   "metadata": {},
   "outputs": [],
   "source": [
    "ipl_match.replace(['Rising Pune Supergiant','2007/08','2009/10','2020/21','Delhi Daredevils','Kings XI Punjab',\n",
    "                   'Arun Jaitley Stadium',\n",
    "                   'Feroz Shah Kotla',\n",
    "                   'Brabourne Stadium',\n",
    "                   'Dr DY Patil Sports Academy',\n",
    "                   'Eden Gardens',\n",
    "                   'M Chinnaswamy Stadium',\n",
    "                   'MA Chidambaram Stadium',\n",
    "                   'MA Chidambaram Stadium, Chepauk',\n",
    "                   'Maharashtra Cricket Association Stadium',\n",
    "                   'Punjab Cricket Association IS Bindra Stadium',\n",
    "                   'Punjab Cricket Association IS Bindra Stadium, Mohali',\n",
    "                   'Rajiv Gandhi International Stadium',\n",
    "                   'Sardar Patel Stadium, Motera',\n",
    "                   'Zayed Cricket Stadium, Abu Dhabi',\n",
    "                   'Wankhede Stadium'],\n",
    "                   ['Rising Pune Supergiants','2008','2010','2020','Delhi Capitals','Punjab Kings',\n",
    "                    'Arun Jaitley Stadium, Delhi',\n",
    "                    'Arun Jaitley Stadium, Delhi',\n",
    "                    'Brabourne Stadium, Mumbai',\n",
    "                    'Dr DY Patil Sports Academy, Mumbai',\n",
    "                    'Eden Gardens, Kolkata',\n",
    "                    'M.Chinnaswamy Stadium',\n",
    "                    'MA Chidambaram Stadium, Chepauk, Chennai',\n",
    "                    'MA Chidambaram Stadium, Chepauk, Chennai',\n",
    "                    'Maharashtra Cricket Association Stadium, Pune',\n",
    "                    'Punjab Cricket Association Stadium, Mohali',\n",
    "                    'Punjab Cricket Association Stadium, Mohali',\n",
    "                    'Rajiv Gandhi International Stadium, Uppal',\n",
    "                    'Narendra Modi Stadium, Ahmedabad',\n",
    "                    'Sheikh Zayed Stadium',\n",
    "                    'Wankhede Stadium, Mumbai' ],\n",
    "                    inplace=True)"
   ]
  },
  {
   "cell_type": "code",
   "execution_count": 42,
   "metadata": {},
   "outputs": [],
   "source": [
    "# ANALYSIS OF THE CLEANED DATA \n",
    "# season wise distribution of all IPL matches"
   ]
  },
  {
   "cell_type": "code",
   "execution_count": 43,
   "metadata": {},
   "outputs": [
    {
     "data": {
      "application/vnd.plotly.v1+json": {
       "config": {
        "plotlyServerURL": "https://plot.ly"
       },
       "data": [
        {
         "alignmentgroup": "True",
         "hovertemplate": "x=%{x}<br>y=%{y}<extra></extra>",
         "legendgroup": "",
         "marker": {
          "color": "#636efa",
          "pattern": {
           "shape": ""
          }
         },
         "name": "",
         "offsetgroup": "",
         "orientation": "v",
         "showlegend": false,
         "textposition": "auto",
         "type": "bar",
         "x": [
          "2008",
          "2009",
          "2010",
          "2011",
          "2012",
          "2013",
          "2014",
          "2015",
          "2016",
          "2017",
          "2018",
          "2019",
          "2020",
          "2021",
          "2022"
         ],
         "xaxis": "x",
         "y": [
          58,
          57,
          60,
          73,
          74,
          76,
          60,
          59,
          60,
          59,
          60,
          60,
          60,
          60,
          74
         ],
         "yaxis": "y"
        }
       ],
       "layout": {
        "barmode": "relative",
        "legend": {
         "tracegroupgap": 0
        },
        "margin": {
         "t": 60
        },
        "template": {
         "data": {
          "bar": [
           {
            "error_x": {
             "color": "#2a3f5f"
            },
            "error_y": {
             "color": "#2a3f5f"
            },
            "marker": {
             "line": {
              "color": "#E5ECF6",
              "width": 0.5
             },
             "pattern": {
              "fillmode": "overlay",
              "size": 10,
              "solidity": 0.2
             }
            },
            "type": "bar"
           }
          ],
          "barpolar": [
           {
            "marker": {
             "line": {
              "color": "#E5ECF6",
              "width": 0.5
             },
             "pattern": {
              "fillmode": "overlay",
              "size": 10,
              "solidity": 0.2
             }
            },
            "type": "barpolar"
           }
          ],
          "carpet": [
           {
            "aaxis": {
             "endlinecolor": "#2a3f5f",
             "gridcolor": "white",
             "linecolor": "white",
             "minorgridcolor": "white",
             "startlinecolor": "#2a3f5f"
            },
            "baxis": {
             "endlinecolor": "#2a3f5f",
             "gridcolor": "white",
             "linecolor": "white",
             "minorgridcolor": "white",
             "startlinecolor": "#2a3f5f"
            },
            "type": "carpet"
           }
          ],
          "choropleth": [
           {
            "colorbar": {
             "outlinewidth": 0,
             "ticks": ""
            },
            "type": "choropleth"
           }
          ],
          "contour": [
           {
            "colorbar": {
             "outlinewidth": 0,
             "ticks": ""
            },
            "colorscale": [
             [
              0,
              "#0d0887"
             ],
             [
              0.1111111111111111,
              "#46039f"
             ],
             [
              0.2222222222222222,
              "#7201a8"
             ],
             [
              0.3333333333333333,
              "#9c179e"
             ],
             [
              0.4444444444444444,
              "#bd3786"
             ],
             [
              0.5555555555555556,
              "#d8576b"
             ],
             [
              0.6666666666666666,
              "#ed7953"
             ],
             [
              0.7777777777777778,
              "#fb9f3a"
             ],
             [
              0.8888888888888888,
              "#fdca26"
             ],
             [
              1,
              "#f0f921"
             ]
            ],
            "type": "contour"
           }
          ],
          "contourcarpet": [
           {
            "colorbar": {
             "outlinewidth": 0,
             "ticks": ""
            },
            "type": "contourcarpet"
           }
          ],
          "heatmap": [
           {
            "colorbar": {
             "outlinewidth": 0,
             "ticks": ""
            },
            "colorscale": [
             [
              0,
              "#0d0887"
             ],
             [
              0.1111111111111111,
              "#46039f"
             ],
             [
              0.2222222222222222,
              "#7201a8"
             ],
             [
              0.3333333333333333,
              "#9c179e"
             ],
             [
              0.4444444444444444,
              "#bd3786"
             ],
             [
              0.5555555555555556,
              "#d8576b"
             ],
             [
              0.6666666666666666,
              "#ed7953"
             ],
             [
              0.7777777777777778,
              "#fb9f3a"
             ],
             [
              0.8888888888888888,
              "#fdca26"
             ],
             [
              1,
              "#f0f921"
             ]
            ],
            "type": "heatmap"
           }
          ],
          "heatmapgl": [
           {
            "colorbar": {
             "outlinewidth": 0,
             "ticks": ""
            },
            "colorscale": [
             [
              0,
              "#0d0887"
             ],
             [
              0.1111111111111111,
              "#46039f"
             ],
             [
              0.2222222222222222,
              "#7201a8"
             ],
             [
              0.3333333333333333,
              "#9c179e"
             ],
             [
              0.4444444444444444,
              "#bd3786"
             ],
             [
              0.5555555555555556,
              "#d8576b"
             ],
             [
              0.6666666666666666,
              "#ed7953"
             ],
             [
              0.7777777777777778,
              "#fb9f3a"
             ],
             [
              0.8888888888888888,
              "#fdca26"
             ],
             [
              1,
              "#f0f921"
             ]
            ],
            "type": "heatmapgl"
           }
          ],
          "histogram": [
           {
            "marker": {
             "pattern": {
              "fillmode": "overlay",
              "size": 10,
              "solidity": 0.2
             }
            },
            "type": "histogram"
           }
          ],
          "histogram2d": [
           {
            "colorbar": {
             "outlinewidth": 0,
             "ticks": ""
            },
            "colorscale": [
             [
              0,
              "#0d0887"
             ],
             [
              0.1111111111111111,
              "#46039f"
             ],
             [
              0.2222222222222222,
              "#7201a8"
             ],
             [
              0.3333333333333333,
              "#9c179e"
             ],
             [
              0.4444444444444444,
              "#bd3786"
             ],
             [
              0.5555555555555556,
              "#d8576b"
             ],
             [
              0.6666666666666666,
              "#ed7953"
             ],
             [
              0.7777777777777778,
              "#fb9f3a"
             ],
             [
              0.8888888888888888,
              "#fdca26"
             ],
             [
              1,
              "#f0f921"
             ]
            ],
            "type": "histogram2d"
           }
          ],
          "histogram2dcontour": [
           {
            "colorbar": {
             "outlinewidth": 0,
             "ticks": ""
            },
            "colorscale": [
             [
              0,
              "#0d0887"
             ],
             [
              0.1111111111111111,
              "#46039f"
             ],
             [
              0.2222222222222222,
              "#7201a8"
             ],
             [
              0.3333333333333333,
              "#9c179e"
             ],
             [
              0.4444444444444444,
              "#bd3786"
             ],
             [
              0.5555555555555556,
              "#d8576b"
             ],
             [
              0.6666666666666666,
              "#ed7953"
             ],
             [
              0.7777777777777778,
              "#fb9f3a"
             ],
             [
              0.8888888888888888,
              "#fdca26"
             ],
             [
              1,
              "#f0f921"
             ]
            ],
            "type": "histogram2dcontour"
           }
          ],
          "mesh3d": [
           {
            "colorbar": {
             "outlinewidth": 0,
             "ticks": ""
            },
            "type": "mesh3d"
           }
          ],
          "parcoords": [
           {
            "line": {
             "colorbar": {
              "outlinewidth": 0,
              "ticks": ""
             }
            },
            "type": "parcoords"
           }
          ],
          "pie": [
           {
            "automargin": true,
            "type": "pie"
           }
          ],
          "scatter": [
           {
            "fillpattern": {
             "fillmode": "overlay",
             "size": 10,
             "solidity": 0.2
            },
            "type": "scatter"
           }
          ],
          "scatter3d": [
           {
            "line": {
             "colorbar": {
              "outlinewidth": 0,
              "ticks": ""
             }
            },
            "marker": {
             "colorbar": {
              "outlinewidth": 0,
              "ticks": ""
             }
            },
            "type": "scatter3d"
           }
          ],
          "scattercarpet": [
           {
            "marker": {
             "colorbar": {
              "outlinewidth": 0,
              "ticks": ""
             }
            },
            "type": "scattercarpet"
           }
          ],
          "scattergeo": [
           {
            "marker": {
             "colorbar": {
              "outlinewidth": 0,
              "ticks": ""
             }
            },
            "type": "scattergeo"
           }
          ],
          "scattergl": [
           {
            "marker": {
             "colorbar": {
              "outlinewidth": 0,
              "ticks": ""
             }
            },
            "type": "scattergl"
           }
          ],
          "scattermapbox": [
           {
            "marker": {
             "colorbar": {
              "outlinewidth": 0,
              "ticks": ""
             }
            },
            "type": "scattermapbox"
           }
          ],
          "scatterpolar": [
           {
            "marker": {
             "colorbar": {
              "outlinewidth": 0,
              "ticks": ""
             }
            },
            "type": "scatterpolar"
           }
          ],
          "scatterpolargl": [
           {
            "marker": {
             "colorbar": {
              "outlinewidth": 0,
              "ticks": ""
             }
            },
            "type": "scatterpolargl"
           }
          ],
          "scatterternary": [
           {
            "marker": {
             "colorbar": {
              "outlinewidth": 0,
              "ticks": ""
             }
            },
            "type": "scatterternary"
           }
          ],
          "surface": [
           {
            "colorbar": {
             "outlinewidth": 0,
             "ticks": ""
            },
            "colorscale": [
             [
              0,
              "#0d0887"
             ],
             [
              0.1111111111111111,
              "#46039f"
             ],
             [
              0.2222222222222222,
              "#7201a8"
             ],
             [
              0.3333333333333333,
              "#9c179e"
             ],
             [
              0.4444444444444444,
              "#bd3786"
             ],
             [
              0.5555555555555556,
              "#d8576b"
             ],
             [
              0.6666666666666666,
              "#ed7953"
             ],
             [
              0.7777777777777778,
              "#fb9f3a"
             ],
             [
              0.8888888888888888,
              "#fdca26"
             ],
             [
              1,
              "#f0f921"
             ]
            ],
            "type": "surface"
           }
          ],
          "table": [
           {
            "cells": {
             "fill": {
              "color": "#EBF0F8"
             },
             "line": {
              "color": "white"
             }
            },
            "header": {
             "fill": {
              "color": "#C8D4E3"
             },
             "line": {
              "color": "white"
             }
            },
            "type": "table"
           }
          ]
         },
         "layout": {
          "annotationdefaults": {
           "arrowcolor": "#2a3f5f",
           "arrowhead": 0,
           "arrowwidth": 1
          },
          "autotypenumbers": "strict",
          "coloraxis": {
           "colorbar": {
            "outlinewidth": 0,
            "ticks": ""
           }
          },
          "colorscale": {
           "diverging": [
            [
             0,
             "#8e0152"
            ],
            [
             0.1,
             "#c51b7d"
            ],
            [
             0.2,
             "#de77ae"
            ],
            [
             0.3,
             "#f1b6da"
            ],
            [
             0.4,
             "#fde0ef"
            ],
            [
             0.5,
             "#f7f7f7"
            ],
            [
             0.6,
             "#e6f5d0"
            ],
            [
             0.7,
             "#b8e186"
            ],
            [
             0.8,
             "#7fbc41"
            ],
            [
             0.9,
             "#4d9221"
            ],
            [
             1,
             "#276419"
            ]
           ],
           "sequential": [
            [
             0,
             "#0d0887"
            ],
            [
             0.1111111111111111,
             "#46039f"
            ],
            [
             0.2222222222222222,
             "#7201a8"
            ],
            [
             0.3333333333333333,
             "#9c179e"
            ],
            [
             0.4444444444444444,
             "#bd3786"
            ],
            [
             0.5555555555555556,
             "#d8576b"
            ],
            [
             0.6666666666666666,
             "#ed7953"
            ],
            [
             0.7777777777777778,
             "#fb9f3a"
            ],
            [
             0.8888888888888888,
             "#fdca26"
            ],
            [
             1,
             "#f0f921"
            ]
           ],
           "sequentialminus": [
            [
             0,
             "#0d0887"
            ],
            [
             0.1111111111111111,
             "#46039f"
            ],
            [
             0.2222222222222222,
             "#7201a8"
            ],
            [
             0.3333333333333333,
             "#9c179e"
            ],
            [
             0.4444444444444444,
             "#bd3786"
            ],
            [
             0.5555555555555556,
             "#d8576b"
            ],
            [
             0.6666666666666666,
             "#ed7953"
            ],
            [
             0.7777777777777778,
             "#fb9f3a"
            ],
            [
             0.8888888888888888,
             "#fdca26"
            ],
            [
             1,
             "#f0f921"
            ]
           ]
          },
          "colorway": [
           "#636efa",
           "#EF553B",
           "#00cc96",
           "#ab63fa",
           "#FFA15A",
           "#19d3f3",
           "#FF6692",
           "#B6E880",
           "#FF97FF",
           "#FECB52"
          ],
          "font": {
           "color": "#2a3f5f"
          },
          "geo": {
           "bgcolor": "white",
           "lakecolor": "white",
           "landcolor": "#E5ECF6",
           "showlakes": true,
           "showland": true,
           "subunitcolor": "white"
          },
          "hoverlabel": {
           "align": "left"
          },
          "hovermode": "closest",
          "mapbox": {
           "style": "light"
          },
          "paper_bgcolor": "white",
          "plot_bgcolor": "#E5ECF6",
          "polar": {
           "angularaxis": {
            "gridcolor": "white",
            "linecolor": "white",
            "ticks": ""
           },
           "bgcolor": "#E5ECF6",
           "radialaxis": {
            "gridcolor": "white",
            "linecolor": "white",
            "ticks": ""
           }
          },
          "scene": {
           "xaxis": {
            "backgroundcolor": "#E5ECF6",
            "gridcolor": "white",
            "gridwidth": 2,
            "linecolor": "white",
            "showbackground": true,
            "ticks": "",
            "zerolinecolor": "white"
           },
           "yaxis": {
            "backgroundcolor": "#E5ECF6",
            "gridcolor": "white",
            "gridwidth": 2,
            "linecolor": "white",
            "showbackground": true,
            "ticks": "",
            "zerolinecolor": "white"
           },
           "zaxis": {
            "backgroundcolor": "#E5ECF6",
            "gridcolor": "white",
            "gridwidth": 2,
            "linecolor": "white",
            "showbackground": true,
            "ticks": "",
            "zerolinecolor": "white"
           }
          },
          "shapedefaults": {
           "line": {
            "color": "#2a3f5f"
           }
          },
          "ternary": {
           "aaxis": {
            "gridcolor": "white",
            "linecolor": "white",
            "ticks": ""
           },
           "baxis": {
            "gridcolor": "white",
            "linecolor": "white",
            "ticks": ""
           },
           "bgcolor": "#E5ECF6",
           "caxis": {
            "gridcolor": "white",
            "linecolor": "white",
            "ticks": ""
           }
          },
          "title": {
           "x": 0.05
          },
          "xaxis": {
           "automargin": true,
           "gridcolor": "white",
           "linecolor": "white",
           "ticks": "",
           "title": {
            "standoff": 15
           },
           "zerolinecolor": "white",
           "zerolinewidth": 2
          },
          "yaxis": {
           "automargin": true,
           "gridcolor": "white",
           "linecolor": "white",
           "ticks": "",
           "title": {
            "standoff": 15
           },
           "zerolinecolor": "white",
           "zerolinewidth": 2
          }
         }
        },
        "title": {
         "text": "IPL matches Vs Season"
        },
        "xaxis": {
         "anchor": "y",
         "domain": [
          0,
          1
         ],
         "title": {
          "text": "Season"
         }
        },
        "yaxis": {
         "anchor": "x",
         "domain": [
          0,
          1
         ],
         "title": {
          "text": "Matches played"
         }
        }
       }
      }
     },
     "metadata": {},
     "output_type": "display_data"
    }
   ],
   "source": [
    "\n",
    "match_pseason=ipl_match['Season'].value_counts().reindex(['2008','2009','2010','2011','2012','2013','2014','2015','2016',\n",
    " \n",
    " \n",
    "                                                          '2017','2018','2019','2020','2021','2022'])\n",
    "\n",
    "X=np.array(match_pseason.index)\n",
    "Y=Y=np.array(match_pseason.values)\n",
    "figure=px.bar(x=X,y=Y)\n",
    "figure.update_layout(title='IPL matches Vs Season',\n",
    "                   xaxis_title='Season',\n",
    "                   yaxis_title='Matches played',\n",
    "                   #lables={x:'Season',y:'Matches played'}\n",
    "                    )\n",
    "figure.show()\n",
    "    \n"
   ]
  },
  {
   "cell_type": "code",
   "execution_count": 44,
   "metadata": {},
   "outputs": [],
   "source": [
    "# Winning Team of each IPL season"
   ]
  },
  {
   "cell_type": "code",
   "execution_count": 45,
   "metadata": {},
   "outputs": [
    {
     "data": {
      "text/html": [
       "<div>\n",
       "<style scoped>\n",
       "    .dataframe tbody tr th:only-of-type {\n",
       "        vertical-align: middle;\n",
       "    }\n",
       "\n",
       "    .dataframe tbody tr th {\n",
       "        vertical-align: top;\n",
       "    }\n",
       "\n",
       "    .dataframe thead th {\n",
       "        text-align: right;\n",
       "    }\n",
       "</style>\n",
       "<table border=\"1\" class=\"dataframe\">\n",
       "  <thead>\n",
       "    <tr style=\"text-align: right;\">\n",
       "      <th></th>\n",
       "      <th>Season</th>\n",
       "      <th>WinningTeam</th>\n",
       "    </tr>\n",
       "  </thead>\n",
       "  <tbody>\n",
       "    <tr>\n",
       "      <th>0</th>\n",
       "      <td>2022</td>\n",
       "      <td>Gujarat Titans</td>\n",
       "    </tr>\n",
       "    <tr>\n",
       "      <th>74</th>\n",
       "      <td>2021</td>\n",
       "      <td>Chennai Super Kings</td>\n",
       "    </tr>\n",
       "    <tr>\n",
       "      <th>134</th>\n",
       "      <td>2020</td>\n",
       "      <td>Mumbai Indians</td>\n",
       "    </tr>\n",
       "    <tr>\n",
       "      <th>194</th>\n",
       "      <td>2019</td>\n",
       "      <td>Mumbai Indians</td>\n",
       "    </tr>\n",
       "    <tr>\n",
       "      <th>254</th>\n",
       "      <td>2018</td>\n",
       "      <td>Chennai Super Kings</td>\n",
       "    </tr>\n",
       "    <tr>\n",
       "      <th>314</th>\n",
       "      <td>2017</td>\n",
       "      <td>Mumbai Indians</td>\n",
       "    </tr>\n",
       "    <tr>\n",
       "      <th>373</th>\n",
       "      <td>2016</td>\n",
       "      <td>Sunrisers Hyderabad</td>\n",
       "    </tr>\n",
       "    <tr>\n",
       "      <th>433</th>\n",
       "      <td>2015</td>\n",
       "      <td>Mumbai Indians</td>\n",
       "    </tr>\n",
       "    <tr>\n",
       "      <th>492</th>\n",
       "      <td>2014</td>\n",
       "      <td>Kolkata Knight Riders</td>\n",
       "    </tr>\n",
       "    <tr>\n",
       "      <th>552</th>\n",
       "      <td>2013</td>\n",
       "      <td>Mumbai Indians</td>\n",
       "    </tr>\n",
       "    <tr>\n",
       "      <th>628</th>\n",
       "      <td>2012</td>\n",
       "      <td>Kolkata Knight Riders</td>\n",
       "    </tr>\n",
       "    <tr>\n",
       "      <th>702</th>\n",
       "      <td>2011</td>\n",
       "      <td>Chennai Super Kings</td>\n",
       "    </tr>\n",
       "    <tr>\n",
       "      <th>775</th>\n",
       "      <td>2010</td>\n",
       "      <td>Chennai Super Kings</td>\n",
       "    </tr>\n",
       "    <tr>\n",
       "      <th>835</th>\n",
       "      <td>2009</td>\n",
       "      <td>Deccan Chargers</td>\n",
       "    </tr>\n",
       "    <tr>\n",
       "      <th>892</th>\n",
       "      <td>2008</td>\n",
       "      <td>Rajasthan Royals</td>\n",
       "    </tr>\n",
       "  </tbody>\n",
       "</table>\n",
       "</div>"
      ],
      "text/plain": [
       "    Season            WinningTeam\n",
       "0     2022         Gujarat Titans\n",
       "74    2021    Chennai Super Kings\n",
       "134   2020         Mumbai Indians\n",
       "194   2019         Mumbai Indians\n",
       "254   2018    Chennai Super Kings\n",
       "314   2017         Mumbai Indians\n",
       "373   2016    Sunrisers Hyderabad\n",
       "433   2015         Mumbai Indians\n",
       "492   2014  Kolkata Knight Riders\n",
       "552   2013         Mumbai Indians\n",
       "628   2012  Kolkata Knight Riders\n",
       "702   2011    Chennai Super Kings\n",
       "775   2010    Chennai Super Kings\n",
       "835   2009        Deccan Chargers\n",
       "892   2008       Rajasthan Royals"
      ]
     },
     "execution_count": 45,
     "metadata": {},
     "output_type": "execute_result"
    }
   ],
   "source": [
    "\n",
    "ipl_match[ipl_match['MatchNumber']=='Final'].loc[:,['Season','WinningTeam']]\n"
   ]
  },
  {
   "cell_type": "code",
   "execution_count": 46,
   "metadata": {},
   "outputs": [],
   "source": [
    "# Performance of each team appeared in the IPL"
   ]
  },
  {
   "cell_type": "code",
   "execution_count": 47,
   "metadata": {},
   "outputs": [],
   "source": [
    "\n",
    "win_per=ipl_match.loc[:,['Team1','Team2','WinningTeam']]\n",
    "win_per['count']=0\n",
    "win_per_final=pd.DataFrame(win_per.groupby('Team1')['count'].count()+win_per.groupby('Team2')['count'].count())\n",
    "win_per_final1=pd.DataFrame(win_per.groupby('WinningTeam')['count'].count())\n",
    "win_per_final1.drop(index='No_one',inplace=True)\n",
    "win_per_final['Won']=win_per_final1['count']\n",
    "win_per_final['no_results']=[0,0,2,0,0,0,0,0,0,1,0,2,0,3,0]\n",
    "win_per_final['lost']=win_per_final['count']-win_per_final['Won']-win_per_final['no_results']\n",
    "win_per_final.index.name='Team'\n",
    "win_per_final.columns=['Total_Match','won','No_results','Lost']"
   ]
  },
  {
   "cell_type": "code",
   "execution_count": 48,
   "metadata": {},
   "outputs": [
    {
     "data": {
      "text/html": [
       "<div>\n",
       "<style scoped>\n",
       "    .dataframe tbody tr th:only-of-type {\n",
       "        vertical-align: middle;\n",
       "    }\n",
       "\n",
       "    .dataframe tbody tr th {\n",
       "        vertical-align: top;\n",
       "    }\n",
       "\n",
       "    .dataframe thead th {\n",
       "        text-align: right;\n",
       "    }\n",
       "</style>\n",
       "<table border=\"1\" class=\"dataframe\">\n",
       "  <thead>\n",
       "    <tr style=\"text-align: right;\">\n",
       "      <th></th>\n",
       "      <th>Total_Match</th>\n",
       "      <th>won</th>\n",
       "      <th>No_results</th>\n",
       "      <th>Lost</th>\n",
       "    </tr>\n",
       "    <tr>\n",
       "      <th>Team</th>\n",
       "      <th></th>\n",
       "      <th></th>\n",
       "      <th></th>\n",
       "      <th></th>\n",
       "    </tr>\n",
       "  </thead>\n",
       "  <tbody>\n",
       "    <tr>\n",
       "      <th>Chennai Super Kings</th>\n",
       "      <td>208</td>\n",
       "      <td>121</td>\n",
       "      <td>0</td>\n",
       "      <td>87</td>\n",
       "    </tr>\n",
       "    <tr>\n",
       "      <th>Deccan Chargers</th>\n",
       "      <td>75</td>\n",
       "      <td>29</td>\n",
       "      <td>0</td>\n",
       "      <td>46</td>\n",
       "    </tr>\n",
       "    <tr>\n",
       "      <th>Delhi Capitals</th>\n",
       "      <td>224</td>\n",
       "      <td>103</td>\n",
       "      <td>2</td>\n",
       "      <td>119</td>\n",
       "    </tr>\n",
       "    <tr>\n",
       "      <th>Gujarat Lions</th>\n",
       "      <td>30</td>\n",
       "      <td>13</td>\n",
       "      <td>0</td>\n",
       "      <td>17</td>\n",
       "    </tr>\n",
       "    <tr>\n",
       "      <th>Gujarat Titans</th>\n",
       "      <td>16</td>\n",
       "      <td>12</td>\n",
       "      <td>0</td>\n",
       "      <td>4</td>\n",
       "    </tr>\n",
       "    <tr>\n",
       "      <th>Kochi Tuskers Kerala</th>\n",
       "      <td>14</td>\n",
       "      <td>6</td>\n",
       "      <td>0</td>\n",
       "      <td>8</td>\n",
       "    </tr>\n",
       "    <tr>\n",
       "      <th>Kolkata Knight Riders</th>\n",
       "      <td>223</td>\n",
       "      <td>114</td>\n",
       "      <td>0</td>\n",
       "      <td>109</td>\n",
       "    </tr>\n",
       "    <tr>\n",
       "      <th>Lucknow Super Giants</th>\n",
       "      <td>15</td>\n",
       "      <td>9</td>\n",
       "      <td>0</td>\n",
       "      <td>6</td>\n",
       "    </tr>\n",
       "    <tr>\n",
       "      <th>Mumbai Indians</th>\n",
       "      <td>231</td>\n",
       "      <td>131</td>\n",
       "      <td>0</td>\n",
       "      <td>100</td>\n",
       "    </tr>\n",
       "    <tr>\n",
       "      <th>Pune Warriors</th>\n",
       "      <td>46</td>\n",
       "      <td>12</td>\n",
       "      <td>1</td>\n",
       "      <td>33</td>\n",
       "    </tr>\n",
       "    <tr>\n",
       "      <th>Punjab Kings</th>\n",
       "      <td>218</td>\n",
       "      <td>101</td>\n",
       "      <td>0</td>\n",
       "      <td>117</td>\n",
       "    </tr>\n",
       "    <tr>\n",
       "      <th>Rajasthan Royals</th>\n",
       "      <td>192</td>\n",
       "      <td>96</td>\n",
       "      <td>2</td>\n",
       "      <td>94</td>\n",
       "    </tr>\n",
       "    <tr>\n",
       "      <th>Rising Pune Supergiants</th>\n",
       "      <td>30</td>\n",
       "      <td>15</td>\n",
       "      <td>0</td>\n",
       "      <td>15</td>\n",
       "    </tr>\n",
       "    <tr>\n",
       "      <th>Royal Challengers Bangalore</th>\n",
       "      <td>226</td>\n",
       "      <td>109</td>\n",
       "      <td>3</td>\n",
       "      <td>114</td>\n",
       "    </tr>\n",
       "    <tr>\n",
       "      <th>Sunrisers Hyderabad</th>\n",
       "      <td>152</td>\n",
       "      <td>75</td>\n",
       "      <td>0</td>\n",
       "      <td>77</td>\n",
       "    </tr>\n",
       "  </tbody>\n",
       "</table>\n",
       "</div>"
      ],
      "text/plain": [
       "                             Total_Match  won  No_results  Lost\n",
       "Team                                                           \n",
       "Chennai Super Kings                  208  121           0    87\n",
       "Deccan Chargers                       75   29           0    46\n",
       "Delhi Capitals                       224  103           2   119\n",
       "Gujarat Lions                         30   13           0    17\n",
       "Gujarat Titans                        16   12           0     4\n",
       "Kochi Tuskers Kerala                  14    6           0     8\n",
       "Kolkata Knight Riders                223  114           0   109\n",
       "Lucknow Super Giants                  15    9           0     6\n",
       "Mumbai Indians                       231  131           0   100\n",
       "Pune Warriors                         46   12           1    33\n",
       "Punjab Kings                         218  101           0   117\n",
       "Rajasthan Royals                     192   96           2    94\n",
       "Rising Pune Supergiants               30   15           0    15\n",
       "Royal Challengers Bangalore          226  109           3   114\n",
       "Sunrisers Hyderabad                  152   75           0    77"
      ]
     },
     "execution_count": 48,
     "metadata": {},
     "output_type": "execute_result"
    }
   ],
   "source": [
    "win_per_final"
   ]
  },
  {
   "cell_type": "code",
   "execution_count": 49,
   "metadata": {},
   "outputs": [
    {
     "data": {
      "text/plain": [
       "won           75\n",
       "No_results     0\n",
       "Lost          77\n",
       "Name: Sunrisers Hyderabad, dtype: int64"
      ]
     },
     "execution_count": 49,
     "metadata": {},
     "output_type": "execute_result"
    }
   ],
   "source": [
    "win_per_final.iloc[14,1:4]"
   ]
  },
  {
   "cell_type": "code",
   "execution_count": 50,
   "metadata": {},
   "outputs": [
    {
     "data": {
      "image/png": "[encoded data removed]",
      "text/plain": [
       "<Figure size 1800x1200 with 15 Axes>"
      ]
     },
     "metadata": {},
     "output_type": "display_data"
    }
   ],
   "source": [
    "\n",
    "j=1\n",
    "plt.figure(figsize=(18,12),frameon=True)\n",
    "for i in win_per_final.index:\n",
    "    plt.subplot(5,3,j)\n",
    "    j+=1\n",
    "    palette_color =sns.color_palette('bright')\n",
    "    if(win_per_final.loc[i,'No_results']!=0):\n",
    "        plt.pie(win_per_final.loc[i,['won','Lost','No_results']],labels=['W','L','NR'],\n",
    "                colors=palette_color,\n",
    "                autopct='%0.2f%%')\n",
    "        plt.title(\"%s\"%(i),fontweight='bold')\n",
    "    else:\n",
    "        plt.pie(win_per_final.loc[i,['won','Lost']],labels=['W','L'],\n",
    "                colors=palette_color,\n",
    "                autopct='%0.2f%%')\n",
    "        plt.title(\"%s\"%(i),fontweight='bold')"
   ]
  },
  {
   "cell_type": "code",
   "execution_count": 51,
   "metadata": {},
   "outputs": [],
   "source": [
    "# Venue wise distribution and analysis of all IPL matches"
   ]
  },
  {
   "cell_type": "code",
   "execution_count": 52,
   "metadata": {},
   "outputs": [
    {
     "data": {
      "text/html": [
       "<div>\n",
       "<style scoped>\n",
       "    .dataframe tbody tr th:only-of-type {\n",
       "        vertical-align: middle;\n",
       "    }\n",
       "\n",
       "    .dataframe tbody tr th {\n",
       "        vertical-align: top;\n",
       "    }\n",
       "\n",
       "    .dataframe thead th {\n",
       "        text-align: right;\n",
       "    }\n",
       "</style>\n",
       "<table border=\"1\" class=\"dataframe\">\n",
       "  <thead>\n",
       "    <tr style=\"text-align: right;\">\n",
       "      <th></th>\n",
       "      <th>Match Played</th>\n",
       "      <th>Match_won_by_batting_1st</th>\n",
       "      <th>%age</th>\n",
       "    </tr>\n",
       "    <tr>\n",
       "      <th>Venue</th>\n",
       "      <th></th>\n",
       "      <th></th>\n",
       "      <th></th>\n",
       "    </tr>\n",
       "  </thead>\n",
       "  <tbody>\n",
       "    <tr>\n",
       "      <th>Wankhede Stadium, Mumbai</th>\n",
       "      <td>104</td>\n",
       "      <td>47.0</td>\n",
       "      <td>45.19</td>\n",
       "    </tr>\n",
       "    <tr>\n",
       "      <th>M.Chinnaswamy Stadium</th>\n",
       "      <td>80</td>\n",
       "      <td>33.0</td>\n",
       "      <td>41.25</td>\n",
       "    </tr>\n",
       "    <tr>\n",
       "      <th>Eden Gardens, Kolkata</th>\n",
       "      <td>79</td>\n",
       "      <td>33.0</td>\n",
       "      <td>41.77</td>\n",
       "    </tr>\n",
       "    <tr>\n",
       "      <th>Arun Jaitley Stadium, Delhi</th>\n",
       "      <td>78</td>\n",
       "      <td>36.0</td>\n",
       "      <td>46.15</td>\n",
       "    </tr>\n",
       "    <tr>\n",
       "      <th>MA Chidambaram Stadium, Chepauk, Chennai</th>\n",
       "      <td>67</td>\n",
       "      <td>39.0</td>\n",
       "      <td>58.21</td>\n",
       "    </tr>\n",
       "    <tr>\n",
       "      <th>Rajiv Gandhi International Stadium, Uppal</th>\n",
       "      <td>64</td>\n",
       "      <td>28.0</td>\n",
       "      <td>43.75</td>\n",
       "    </tr>\n",
       "    <tr>\n",
       "      <th>Punjab Cricket Association Stadium, Mohali</th>\n",
       "      <td>56</td>\n",
       "      <td>24.0</td>\n",
       "      <td>42.86</td>\n",
       "    </tr>\n",
       "    <tr>\n",
       "      <th>Sawai Mansingh Stadium</th>\n",
       "      <td>47</td>\n",
       "      <td>15.0</td>\n",
       "      <td>31.91</td>\n",
       "    </tr>\n",
       "    <tr>\n",
       "      <th>Dubai International Cricket Stadium</th>\n",
       "      <td>46</td>\n",
       "      <td>21.0</td>\n",
       "      <td>45.65</td>\n",
       "    </tr>\n",
       "    <tr>\n",
       "      <th>Dr DY Patil Sports Academy, Mumbai</th>\n",
       "      <td>37</td>\n",
       "      <td>17.0</td>\n",
       "      <td>45.95</td>\n",
       "    </tr>\n",
       "    <tr>\n",
       "      <th>Sheikh Zayed Stadium</th>\n",
       "      <td>37</td>\n",
       "      <td>14.0</td>\n",
       "      <td>37.84</td>\n",
       "    </tr>\n",
       "    <tr>\n",
       "      <th>Maharashtra Cricket Association Stadium, Pune</th>\n",
       "      <td>35</td>\n",
       "      <td>18.0</td>\n",
       "      <td>51.43</td>\n",
       "    </tr>\n",
       "    <tr>\n",
       "      <th>Sharjah Cricket Stadium</th>\n",
       "      <td>28</td>\n",
       "      <td>10.0</td>\n",
       "      <td>35.71</td>\n",
       "    </tr>\n",
       "    <tr>\n",
       "      <th>Brabourne Stadium, Mumbai</th>\n",
       "      <td>27</td>\n",
       "      <td>14.0</td>\n",
       "      <td>51.85</td>\n",
       "    </tr>\n",
       "    <tr>\n",
       "      <th>Narendra Modi Stadium, Ahmedabad</th>\n",
       "      <td>19</td>\n",
       "      <td>8.0</td>\n",
       "      <td>42.11</td>\n",
       "    </tr>\n",
       "    <tr>\n",
       "      <th>Subrata Roy Sahara Stadium</th>\n",
       "      <td>16</td>\n",
       "      <td>10.0</td>\n",
       "      <td>62.50</td>\n",
       "    </tr>\n",
       "    <tr>\n",
       "      <th>Kingsmead</th>\n",
       "      <td>15</td>\n",
       "      <td>9.0</td>\n",
       "      <td>60.00</td>\n",
       "    </tr>\n",
       "    <tr>\n",
       "      <th>Dr. Y.S. Rajasekhara Reddy ACA-VDCA Cricket Stadium</th>\n",
       "      <td>13</td>\n",
       "      <td>7.0</td>\n",
       "      <td>53.85</td>\n",
       "    </tr>\n",
       "    <tr>\n",
       "      <th>SuperSport Park</th>\n",
       "      <td>12</td>\n",
       "      <td>4.0</td>\n",
       "      <td>33.33</td>\n",
       "    </tr>\n",
       "    <tr>\n",
       "      <th>Saurashtra Cricket Association Stadium</th>\n",
       "      <td>10</td>\n",
       "      <td>3.0</td>\n",
       "      <td>30.00</td>\n",
       "    </tr>\n",
       "    <tr>\n",
       "      <th>Holkar Cricket Stadium</th>\n",
       "      <td>9</td>\n",
       "      <td>1.0</td>\n",
       "      <td>11.11</td>\n",
       "    </tr>\n",
       "    <tr>\n",
       "      <th>Himachal Pradesh Cricket Association Stadium</th>\n",
       "      <td>9</td>\n",
       "      <td>5.0</td>\n",
       "      <td>55.56</td>\n",
       "    </tr>\n",
       "    <tr>\n",
       "      <th>New Wanderers Stadium</th>\n",
       "      <td>8</td>\n",
       "      <td>3.0</td>\n",
       "      <td>37.50</td>\n",
       "    </tr>\n",
       "    <tr>\n",
       "      <th>Newlands</th>\n",
       "      <td>7</td>\n",
       "      <td>4.0</td>\n",
       "      <td>57.14</td>\n",
       "    </tr>\n",
       "    <tr>\n",
       "      <th>Barabati Stadium</th>\n",
       "      <td>7</td>\n",
       "      <td>4.0</td>\n",
       "      <td>57.14</td>\n",
       "    </tr>\n",
       "    <tr>\n",
       "      <th>JSCA International Stadium Complex</th>\n",
       "      <td>7</td>\n",
       "      <td>2.0</td>\n",
       "      <td>28.57</td>\n",
       "    </tr>\n",
       "    <tr>\n",
       "      <th>St George's Park</th>\n",
       "      <td>7</td>\n",
       "      <td>3.0</td>\n",
       "      <td>42.86</td>\n",
       "    </tr>\n",
       "    <tr>\n",
       "      <th>Shaheed Veer Narayan Singh International Stadium</th>\n",
       "      <td>6</td>\n",
       "      <td>2.0</td>\n",
       "      <td>33.33</td>\n",
       "    </tr>\n",
       "    <tr>\n",
       "      <th>Nehru Stadium</th>\n",
       "      <td>5</td>\n",
       "      <td>3.0</td>\n",
       "      <td>60.00</td>\n",
       "    </tr>\n",
       "    <tr>\n",
       "      <th>Green Park</th>\n",
       "      <td>4</td>\n",
       "      <td>0.0</td>\n",
       "      <td>0.00</td>\n",
       "    </tr>\n",
       "    <tr>\n",
       "      <th>Buffalo Park</th>\n",
       "      <td>3</td>\n",
       "      <td>2.0</td>\n",
       "      <td>66.67</td>\n",
       "    </tr>\n",
       "    <tr>\n",
       "      <th>Vidarbha Cricket Association Stadium, Jamtha</th>\n",
       "      <td>3</td>\n",
       "      <td>2.0</td>\n",
       "      <td>66.67</td>\n",
       "    </tr>\n",
       "    <tr>\n",
       "      <th>De Beers Diamond Oval</th>\n",
       "      <td>3</td>\n",
       "      <td>1.0</td>\n",
       "      <td>33.33</td>\n",
       "    </tr>\n",
       "    <tr>\n",
       "      <th>OUTsurance Oval</th>\n",
       "      <td>2</td>\n",
       "      <td>1.0</td>\n",
       "      <td>50.00</td>\n",
       "    </tr>\n",
       "  </tbody>\n",
       "</table>\n",
       "</div>"
      ],
      "text/plain": [
       "                                                    Match Played  \\\n",
       "Venue                                                              \n",
       "Wankhede Stadium, Mumbai                                     104   \n",
       "M.Chinnaswamy Stadium                                         80   \n",
       "Eden Gardens, Kolkata                                         79   \n",
       "Arun Jaitley Stadium, Delhi                                   78   \n",
       "MA Chidambaram Stadium, Chepauk, Chennai                      67   \n",
       "Rajiv Gandhi International Stadium, Uppal                     64   \n",
       "Punjab Cricket Association Stadium, Mohali                    56   \n",
       "Sawai Mansingh Stadium                                        47   \n",
       "Dubai International Cricket Stadium                           46   \n",
       "Dr DY Patil Sports Academy, Mumbai                            37   \n",
       "Sheikh Zayed Stadium                                          37   \n",
       "Maharashtra Cricket Association Stadium, Pune                 35   \n",
       "Sharjah Cricket Stadium                                       28   \n",
       "Brabourne Stadium, Mumbai                                     27   \n",
       "Narendra Modi Stadium, Ahmedabad                              19   \n",
       "Subrata Roy Sahara Stadium                                    16   \n",
       "Kingsmead                                                     15   \n",
       "Dr. Y.S. Rajasekhara Reddy ACA-VDCA Cricket Sta...            13   \n",
       "SuperSport Park                                               12   \n",
       "Saurashtra Cricket Association Stadium                        10   \n",
       "Holkar Cricket Stadium                                         9   \n",
       "Himachal Pradesh Cricket Association Stadium                   9   \n",
       "New Wanderers Stadium                                          8   \n",
       "Newlands                                                       7   \n",
       "Barabati Stadium                                               7   \n",
       "JSCA International Stadium Complex                             7   \n",
       "St George's Park                                               7   \n",
       "Shaheed Veer Narayan Singh International Stadium               6   \n",
       "Nehru Stadium                                                  5   \n",
       "Green Park                                                     4   \n",
       "Buffalo Park                                                   3   \n",
       "Vidarbha Cricket Association Stadium, Jamtha                   3   \n",
       "De Beers Diamond Oval                                          3   \n",
       "OUTsurance Oval                                                2   \n",
       "\n",
       "                                                    Match_won_by_batting_1st  \\\n",
       "Venue                                                                          \n",
       "Wankhede Stadium, Mumbai                                                47.0   \n",
       "M.Chinnaswamy Stadium                                                   33.0   \n",
       "Eden Gardens, Kolkata                                                   33.0   \n",
       "Arun Jaitley Stadium, Delhi                                             36.0   \n",
       "MA Chidambaram Stadium, Chepauk, Chennai                                39.0   \n",
       "Rajiv Gandhi International Stadium, Uppal                               28.0   \n",
       "Punjab Cricket Association Stadium, Mohali                              24.0   \n",
       "Sawai Mansingh Stadium                                                  15.0   \n",
       "Dubai International Cricket Stadium                                     21.0   \n",
       "Dr DY Patil Sports Academy, Mumbai                                      17.0   \n",
       "Sheikh Zayed Stadium                                                    14.0   \n",
       "Maharashtra Cricket Association Stadium, Pune                           18.0   \n",
       "Sharjah Cricket Stadium                                                 10.0   \n",
       "Brabourne Stadium, Mumbai                                               14.0   \n",
       "Narendra Modi Stadium, Ahmedabad                                         8.0   \n",
       "Subrata Roy Sahara Stadium                                              10.0   \n",
       "Kingsmead                                                                9.0   \n",
       "Dr. Y.S. Rajasekhara Reddy ACA-VDCA Cricket Sta...                       7.0   \n",
       "SuperSport Park                                                          4.0   \n",
       "Saurashtra Cricket Association Stadium                                   3.0   \n",
       "Holkar Cricket Stadium                                                   1.0   \n",
       "Himachal Pradesh Cricket Association Stadium                             5.0   \n",
       "New Wanderers Stadium                                                    3.0   \n",
       "Newlands                                                                 4.0   \n",
       "Barabati Stadium                                                         4.0   \n",
       "JSCA International Stadium Complex                                       2.0   \n",
       "St George's Park                                                         3.0   \n",
       "Shaheed Veer Narayan Singh International Stadium                         2.0   \n",
       "Nehru Stadium                                                            3.0   \n",
       "Green Park                                                               0.0   \n",
       "Buffalo Park                                                             2.0   \n",
       "Vidarbha Cricket Association Stadium, Jamtha                             2.0   \n",
       "De Beers Diamond Oval                                                    1.0   \n",
       "OUTsurance Oval                                                          1.0   \n",
       "\n",
       "                                                     %age  \n",
       "Venue                                                      \n",
       "Wankhede Stadium, Mumbai                            45.19  \n",
       "M.Chinnaswamy Stadium                               41.25  \n",
       "Eden Gardens, Kolkata                               41.77  \n",
       "Arun Jaitley Stadium, Delhi                         46.15  \n",
       "MA Chidambaram Stadium, Chepauk, Chennai            58.21  \n",
       "Rajiv Gandhi International Stadium, Uppal           43.75  \n",
       "Punjab Cricket Association Stadium, Mohali          42.86  \n",
       "Sawai Mansingh Stadium                              31.91  \n",
       "Dubai International Cricket Stadium                 45.65  \n",
       "Dr DY Patil Sports Academy, Mumbai                  45.95  \n",
       "Sheikh Zayed Stadium                                37.84  \n",
       "Maharashtra Cricket Association Stadium, Pune       51.43  \n",
       "Sharjah Cricket Stadium                             35.71  \n",
       "Brabourne Stadium, Mumbai                           51.85  \n",
       "Narendra Modi Stadium, Ahmedabad                    42.11  \n",
       "Subrata Roy Sahara Stadium                          62.50  \n",
       "Kingsmead                                           60.00  \n",
       "Dr. Y.S. Rajasekhara Reddy ACA-VDCA Cricket Sta...  53.85  \n",
       "SuperSport Park                                     33.33  \n",
       "Saurashtra Cricket Association Stadium              30.00  \n",
       "Holkar Cricket Stadium                              11.11  \n",
       "Himachal Pradesh Cricket Association Stadium        55.56  \n",
       "New Wanderers Stadium                               37.50  \n",
       "Newlands                                            57.14  \n",
       "Barabati Stadium                                    57.14  \n",
       "JSCA International Stadium Complex                  28.57  \n",
       "St George's Park                                    42.86  \n",
       "Shaheed Veer Narayan Singh International Stadium    33.33  \n",
       "Nehru Stadium                                       60.00  \n",
       "Green Park                                           0.00  \n",
       "Buffalo Park                                        66.67  \n",
       "Vidarbha Cricket Association Stadium, Jamtha        66.67  \n",
       "De Beers Diamond Oval                               33.33  \n",
       "OUTsurance Oval                                     50.00  "
      ]
     },
     "execution_count": 52,
     "metadata": {},
     "output_type": "execute_result"
    }
   ],
   "source": [
    "ipl_venue=ipl_match.loc[:,['Venue']]\n",
    "ipl_venue['Match Played']=1\n",
    "ipl_venue_details=ipl_venue.groupby('Venue').sum()\n",
    "\n",
    "ipl_venue_wonfirst=pd.DataFrame(ipl_match[ipl_match['WonBy']=='Runs'].loc[:,'Venue'])\n",
    "ipl_venue_wonfirst['Match_won_by_batting_1st']=1\n",
    "ipl_venue_wonfirst.groupby('Venue').sum()\n",
    "\n",
    "\n",
    "ipl_venue_details['Match_won_by_batting_1st']=ipl_venue_wonfirst.groupby('Venue').sum()['Match_won_by_batting_1st']\n",
    "ipl_venue_details.loc['Green Park','Match_won_by_batting_1st']=0\n",
    "ipl_venue_details['%age']=round((ipl_venue_details['Match_won_by_batting_1st']/ipl_venue_details['Match Played'])*100,2)\n",
    "ipl_venue_details.sort_values(by='Match Played',ascending=False)"
   ]
  },
  {
   "cell_type": "code",
   "execution_count": 53,
   "metadata": {},
   "outputs": [],
   "source": [
    "# Analysis to find if toss result or decision made after winning the toss affects the result of the match:¶"
   ]
  },
  {
   "cell_type": "markdown",
   "metadata": {},
   "source": [
    "from plotly.subplots import make_subplots"
   ]
  },
  {
   "cell_type": "code",
   "execution_count": 54,
   "metadata": {},
   "outputs": [
    {
     "ename": "NameError",
     "evalue": "name 'make_subplots' is not defined",
     "output_type": "error",
     "traceback": [
      "\u001b[1;31m---------------------------------------------------------------------------\u001b[0m",
      "\u001b[1;31mNameError\u001b[0m                                 Traceback (most recent call last)",
      "\u001b[1;32mc:\\Users\\ASUS\\DataAnalytics\\IPL DATA Analysis\\PROJECT1.ipynb Cell 26\u001b[0m line \u001b[0;36m1\n\u001b[1;32m----> <a href='vscode-notebook-cell:/c%3A/Users/ASUS/DataAnalytics/IPL%20DATA%20Analysis/PROJECT1.ipynb#X31sZmlsZQ%3D%3D?line=0'>1</a>\u001b[0m fig \u001b[39m=\u001b[39m make_subplots(\n\u001b[0;32m      <a href='vscode-notebook-cell:/c%3A/Users/ASUS/DataAnalytics/IPL%20DATA%20Analysis/PROJECT1.ipynb#X31sZmlsZQ%3D%3D?line=1'>2</a>\u001b[0m                     rows\u001b[39m=\u001b[39m\u001b[39m1\u001b[39m, cols\u001b[39m=\u001b[39m\u001b[39m2\u001b[39m,\n\u001b[0;32m      <a href='vscode-notebook-cell:/c%3A/Users/ASUS/DataAnalytics/IPL%20DATA%20Analysis/PROJECT1.ipynb#X31sZmlsZQ%3D%3D?line=2'>3</a>\u001b[0m                     specs\u001b[39m=\u001b[39m[[{\u001b[39m\"\u001b[39m\u001b[39mtype\u001b[39m\u001b[39m\"\u001b[39m: \u001b[39m\"\u001b[39m\u001b[39mdomain\u001b[39m\u001b[39m\"\u001b[39m}, {\u001b[39m\"\u001b[39m\u001b[39mtype\u001b[39m\u001b[39m\"\u001b[39m: \u001b[39m\"\u001b[39m\u001b[39mdomain\u001b[39m\u001b[39m\"\u001b[39m}]],\n\u001b[0;32m      <a href='vscode-notebook-cell:/c%3A/Users/ASUS/DataAnalytics/IPL%20DATA%20Analysis/PROJECT1.ipynb#X31sZmlsZQ%3D%3D?line=3'>4</a>\u001b[0m                     subplot_titles\u001b[39m=\u001b[39m(\u001b[39m\"\u001b[39m\u001b[39mIPL Total Wins\u001b[39m\u001b[39m\"\u001b[39m,\u001b[39m\"\u001b[39m\u001b[39mIPL Total Wins\u001b[39m\u001b[39m\"\u001b[39m)\n\u001b[0;32m      <a href='vscode-notebook-cell:/c%3A/Users/ASUS/DataAnalytics/IPL%20DATA%20Analysis/PROJECT1.ipynb#X31sZmlsZQ%3D%3D?line=4'>5</a>\u001b[0m                     )\n\u001b[0;32m      <a href='vscode-notebook-cell:/c%3A/Users/ASUS/DataAnalytics/IPL%20DATA%20Analysis/PROJECT1.ipynb#X31sZmlsZQ%3D%3D?line=6'>7</a>\u001b[0m fig\u001b[39m.\u001b[39madd_trace(go\u001b[39m.\u001b[39mPie(values\u001b[39m=\u001b[39mipl_match[\u001b[39m'\u001b[39m\u001b[39mWonBy\u001b[39m\u001b[39m'\u001b[39m]\u001b[39m.\u001b[39mvalue_counts()\u001b[39m.\u001b[39mvalues,\n\u001b[0;32m      <a href='vscode-notebook-cell:/c%3A/Users/ASUS/DataAnalytics/IPL%20DATA%20Analysis/PROJECT1.ipynb#X31sZmlsZQ%3D%3D?line=7'>8</a>\u001b[0m                     labels\u001b[39m=\u001b[39m[\u001b[39m'\u001b[39m\u001b[39mBatting First\u001b[39m\u001b[39m'\u001b[39m,\u001b[39m'\u001b[39m\u001b[39mBowling First\u001b[39m\u001b[39m'\u001b[39m,\u001b[39m'\u001b[39m\u001b[39mSO\u001b[39m\u001b[39m'\u001b[39m,\u001b[39m'\u001b[39m\u001b[39mNR\u001b[39m\u001b[39m'\u001b[39m]),\n\u001b[0;32m      <a href='vscode-notebook-cell:/c%3A/Users/ASUS/DataAnalytics/IPL%20DATA%20Analysis/PROJECT1.ipynb#X31sZmlsZQ%3D%3D?line=8'>9</a>\u001b[0m               row\u001b[39m=\u001b[39m\u001b[39m1\u001b[39m, col\u001b[39m=\u001b[39m\u001b[39m1\u001b[39m)\n\u001b[0;32m     <a href='vscode-notebook-cell:/c%3A/Users/ASUS/DataAnalytics/IPL%20DATA%20Analysis/PROJECT1.ipynb#X31sZmlsZQ%3D%3D?line=10'>11</a>\u001b[0m fig\u001b[39m.\u001b[39madd_trace(go\u001b[39m.\u001b[39mPie(values \u001b[39m=\u001b[39m[ipl_match[ipl_match[\u001b[39m'\u001b[39m\u001b[39mTossWinner\u001b[39m\u001b[39m'\u001b[39m]\u001b[39m==\u001b[39mipl_match[\u001b[39m'\u001b[39m\u001b[39mWinningTeam\u001b[39m\u001b[39m'\u001b[39m]]\u001b[39m.\u001b[39mshape[\u001b[39m0\u001b[39m],\n\u001b[0;32m     <a href='vscode-notebook-cell:/c%3A/Users/ASUS/DataAnalytics/IPL%20DATA%20Analysis/PROJECT1.ipynb#X31sZmlsZQ%3D%3D?line=11'>12</a>\u001b[0m                     ipl_match\u001b[39m.\u001b[39mshape[\u001b[39m0\u001b[39m]\u001b[39m-\u001b[39mipl_match[ipl_match[\u001b[39m'\u001b[39m\u001b[39mTossWinner\u001b[39m\u001b[39m'\u001b[39m]\u001b[39m==\u001b[39mipl_match[\u001b[39m'\u001b[39m\u001b[39mWinningTeam\u001b[39m\u001b[39m'\u001b[39m]]\u001b[39m.\u001b[39mshape[\u001b[39m0\u001b[39m]],\n\u001b[0;32m     <a href='vscode-notebook-cell:/c%3A/Users/ASUS/DataAnalytics/IPL%20DATA%20Analysis/PROJECT1.ipynb#X31sZmlsZQ%3D%3D?line=12'>13</a>\u001b[0m                     labels\u001b[39m=\u001b[39m[\u001b[39m'\u001b[39m\u001b[39mToss Winner\u001b[39m\u001b[39m'\u001b[39m,\u001b[39m'\u001b[39m\u001b[39mRest(NR&SO included)\u001b[39m\u001b[39m'\u001b[39m],),\n\u001b[0;32m     <a href='vscode-notebook-cell:/c%3A/Users/ASUS/DataAnalytics/IPL%20DATA%20Analysis/PROJECT1.ipynb#X31sZmlsZQ%3D%3D?line=13'>14</a>\u001b[0m               row\u001b[39m=\u001b[39m\u001b[39m1\u001b[39m, col\u001b[39m=\u001b[39m\u001b[39m2\u001b[39m)\n",
      "\u001b[1;31mNameError\u001b[0m: name 'make_subplots' is not defined"
     ]
    }
   ],
   "source": [
    "fig = make_subplots(\n",
    "                    rows=1, cols=2,\n",
    "                    specs=[[{\"type\": \"domain\"}, {\"type\": \"domain\"}]],\n",
    "                    subplot_titles=(\"IPL Total Wins\",\"IPL Total Wins\")\n",
    "                    )\n",
    "\n",
    "fig.add_trace(go.Pie(values=ipl_match['WonBy'].value_counts().values,\n",
    "                    labels=['Batting First','Bowling First','SO','NR']),\n",
    "              row=1, col=1)\n",
    "\n",
    "fig.add_trace(go.Pie(values =[ipl_match[ipl_match['TossWinner']==ipl_match['WinningTeam']].shape[0],\n",
    "                    ipl_match.shape[0]-ipl_match[ipl_match['TossWinner']==ipl_match['WinningTeam']].shape[0]],\n",
    "                    labels=['Toss Winner','Rest(NR&SO included)'],),\n",
    "              row=1, col=2)\n",
    "\n",
    "fig.update_layout(\n",
    "                  height=600,\n",
    "                  showlegend=False\n",
    "                  )\n",
    "\n",
    "fig.show()"
   ]
  },
  {
   "cell_type": "code",
   "execution_count": null,
   "metadata": {},
   "outputs": [],
   "source": [
    "# conclusion:\n",
    "#it is clear that neither toss decision nor the toss result puts any team in an advantegious position in the game "
   ]
  },
  {
   "cell_type": "code",
   "execution_count": null,
   "metadata": {},
   "outputs": [],
   "source": [
    "# Decision made after winning the toss in IPL"
   ]
  },
  {
   "cell_type": "code",
   "execution_count": null,
   "metadata": {},
   "outputs": [],
   "source": [
    "\n",
    "ipl_match['TossDecision'].value_counts()\n"
   ]
  },
  {
   "cell_type": "code",
   "execution_count": null,
   "metadata": {},
   "outputs": [],
   "source": [
    "\n",
    "fig = px.pie(values=ipl_match['TossDecision'].value_counts().values,\n",
    "             names=ipl_match['TossDecision'].value_counts().index,\n",
    "             title='IPL Toss Decision')\n",
    "fig.update_traces(textposition='inside', textinfo='percent+label')\n",
    "fig.show()"
   ]
  },
  {
   "cell_type": "code",
   "execution_count": null,
   "metadata": {},
   "outputs": [],
   "source": [
    "# conclusion:\n",
    "#it is clear from the graph that if a team wins the toss it is most probbale that it will choose to bowl."
   ]
  },
  {
   "cell_type": "code",
   "execution_count": null,
   "metadata": {},
   "outputs": [],
   "source": [
    "# Batting and Bowling statistics of indivudual players"
   ]
  },
  {
   "cell_type": "code",
   "execution_count": null,
   "metadata": {},
   "outputs": [],
   "source": [
    "# Getting the record of runs and boundaries scored by individual players in IPL"
   ]
  },
  {
   "cell_type": "code",
   "execution_count": null,
   "metadata": {},
   "outputs": [],
   "source": [
    "\n",
    "ipl_totalruns=ipl_alltime.loc[:,['batter','batsman_run']].groupby('batter').sum()\n",
    "\n",
    "ipl_totalsixes=ipl_alltime[ipl_alltime['batsman_run']==6].loc[:,['batter','batsman_run']].groupby('batter').count()\n",
    "\n",
    "ipl_totalfours=ipl_alltime[ipl_alltime['batsman_run']==4].loc[:,['batter','batsman_run']].groupby('batter').count()\n",
    "\n",
    "ipl_totalballs=ipl_alltime.loc[:,['batter','batsman_run']].groupby('batter').count()\n",
    "ipl_totalballs.columns=['Balls_played']\n",
    "\n",
    "ipl_totalballs['Runs']=ipl_totalruns['batsman_run']\n",
    "ipl_totalballs['6s']=ipl_totalsixes['batsman_run']\n",
    "ipl_totalballs['6s'].fillna(0,inplace=True)\n",
    "ipl_totalballs['4s']=ipl_totalfours['batsman_run']\n",
    "ipl_totalballs['4s'].fillna(0,inplace=True)\n",
    "ipl_totalballs['SR']=round(ipl_totalballs['Runs']/ipl_totalballs['Balls_played']*100,2)\n",
    "ipl_totalballs['Bpb']=round(ipl_totalballs['Balls_played']/(ipl_totalballs['6s']+ipl_totalballs['4s']),2)\n"
   ]
  },
  {
   "cell_type": "code",
   "execution_count": null,
   "metadata": {},
   "outputs": [],
   "source": [
    "ipl_totalballs.sort_values(by='Runs',ascending=False)"
   ]
  },
  {
   "cell_type": "code",
   "execution_count": null,
   "metadata": {},
   "outputs": [],
   "source": [
    "# From the record we now analyse which IPL batter playes the least no. of balls to score a boundary? and which batter score runs with highest strike rate? ,the result of the analysis in the form of graphs is as shown:"
   ]
  },
  {
   "cell_type": "code",
   "execution_count": null,
   "metadata": {},
   "outputs": [],
   "source": [
    "x2=ipl_totalballs[ipl_totalballs['Balls_played']>1000].sort_values(by='SR',ascending=False).iloc[0:10,:].index\n",
    "y2=ipl_totalballs[ipl_totalballs['Balls_played']>1000].sort_values(by='SR',ascending=False).iloc[0:10,:]['SR']\n",
    "\n",
    "\n",
    "x3=ipl_totalballs[ipl_totalballs['Balls_played']>1000].sort_values(by='Bpb').iloc[0:10,:].index\n",
    "y3=ipl_totalballs[ipl_totalballs['Balls_played']>1000].sort_values(by='Bpb').iloc[0:10,:]['Bpb']"
   ]
  },
  {
   "cell_type": "code",
   "execution_count": null,
   "metadata": {},
   "outputs": [],
   "source": [
    "fig = make_subplots(rows=1, cols=2,\n",
    "                   subplot_titles=(\"Batsman with best SR\",\"Batsman hitting boundary most often\"))\n",
    "\n",
    "fig.add_trace(go.Bar(x=y2.index,\n",
    "                     y=y2),\n",
    "              row=1, \n",
    "              col=1)\n",
    "\n",
    "fig.add_trace(go.Bar(x=y3.index,\n",
    "                     y=y3),\n",
    "              row=1,\n",
    "              col=2)\n",
    "fig.show()"
   ]
  },
  {
   "cell_type": "code",
   "execution_count": null,
   "metadata": {},
   "outputs": [],
   "source": [
    "# Total number of balls played by all battters combined together in the IPL is :"
   ]
  },
  {
   "cell_type": "code",
   "execution_count": null,
   "metadata": {},
   "outputs": [],
   "source": [
    "\n",
    "ipl_totalballs['Balls_played'].sum()\n"
   ]
  },
  {
   "cell_type": "code",
   "execution_count": null,
   "metadata": {},
   "outputs": [],
   "source": [
    "# of all these balls total number of balls which were hit for a boundary is:"
   ]
  },
  {
   "cell_type": "code",
   "execution_count": null,
   "metadata": {},
   "outputs": [],
   "source": [
    "\n",
    "(ipl_totalballs['6s']+ipl_totalballs['4s']).sum()"
   ]
  },
  {
   "cell_type": "code",
   "execution_count": null,
   "metadata": {},
   "outputs": [],
   "source": [
    "# on an average total balls played by a batsman to hit a boundry in an IPL match is given by:¶"
   ]
  },
  {
   "cell_type": "code",
   "execution_count": null,
   "metadata": {},
   "outputs": [],
   "source": [
    "\n",
    "round(ipl_totalballs['Balls_played'].sum()/(ipl_totalballs['6s']+ipl_totalballs['4s']).sum(),2)\n"
   ]
  },
  {
   "cell_type": "code",
   "execution_count": null,
   "metadata": {},
   "outputs": [],
   "source": [
    "# Finding the distributions of ball number of an over with runs scored on the ball and wickets fallen "
   ]
  },
  {
   "cell_type": "code",
   "execution_count": null,
   "metadata": {},
   "outputs": [],
   "source": [
    "y4=ipl_alltime.loc[:,['ballnumber','batsman_run','isWicketDelivery']].groupby('ballnumber').sum()['batsman_run']\n",
    "\n",
    "y5=ipl_alltime.loc[:,['ballnumber','batsman_run','isWicketDelivery']].groupby('ballnumber').sum()['isWicketDelivery']"
   ]
  },
  {
   "cell_type": "code",
   "execution_count": null,
   "metadata": {},
   "outputs": [],
   "source": [
    "fig = make_subplots(rows=1, cols=2,\n",
    "                   subplot_titles=(\"Ball_no.Vs Runs_Scored\",\"Ball_no Vs Wickets fell\"))\n",
    "\n",
    "fig.add_trace(go.Bar(x=y4.index,\n",
    "                     y=y4),\n",
    "              row=1, \n",
    "              col=1)\n",
    "\n",
    "fig.add_trace(go.Bar(x=y5.index,\n",
    "                     y=y5),\n",
    "              row=1,\n",
    "              col=2)\n",
    "fig.show()\n",
    "\n",
    "#conclusion:from the graph it is clear that on the forth ball of the over tmaximum wickets have fallen and also maximum runs have been scored"
   ]
  },
  {
   "cell_type": "code",
   "execution_count": null,
   "metadata": {},
   "outputs": [],
   "source": [
    "# Getting the data about the way of dismissals of the batters in IPL"
   ]
  },
  {
   "cell_type": "code",
   "execution_count": null,
   "metadata": {},
   "outputs": [],
   "source": [
    "\n",
    "ipl_dismissal=ipl_alltime[ipl_alltime['isWicketDelivery']==1].loc[:,['bowler','isWicketDelivery','kind']]['kind'].value_counts()\n"
   ]
  },
  {
   "cell_type": "code",
   "execution_count": null,
   "metadata": {},
   "outputs": [],
   "source": [
    "figure=px.bar(x=ipl_dismissal.index,\n",
    "              y=ipl_dismissal.values)\n",
    "figure.update_layout(title='IPL way of dismissals',\n",
    "                   xaxis_title='Type oDismissalf ',\n",
    "                   yaxis_title='Number'\n",
    "                    )\n",
    "figure.show()\n",
    "    "
   ]
  },
  {
   "cell_type": "code",
   "execution_count": null,
   "metadata": {},
   "outputs": [],
   "source": [
    "# Getting the record of bowls bowled and wickets claimed by individual players in IPL"
   ]
  },
  {
   "cell_type": "code",
   "execution_count": null,
   "metadata": {},
   "outputs": [],
   "source": [
    "\n",
    "ipl_wickets=ipl_alltime[ipl_alltime['isWicketDelivery']==1].loc[:,['bowler','isWicketDelivery','kind']]\n",
    "\n",
    "\n",
    "ipl_wicketsfinal=pd.DataFrame(ipl_wickets[(ipl_wickets['kind']!='run out')|\n",
    "            (ipl_wickets['kind']=='retired hurt')|\n",
    "            (ipl_wickets['kind']!='obstructing the field')|\n",
    "            (ipl_wickets['kind']!='retired out')].groupby('bowler')['isWicketDelivery'].sum()).sort_values(by='isWicketDelivery',ascending=False)\n",
    "\n",
    "\n",
    "ipl_bowlers=pd.DataFrame(ipl_alltime['bowler'])\n",
    "ipl_bowlers['count']=1\n",
    "ipl_bowling=ipl_bowlers.groupby('bowler').sum()\n",
    "ipl_bowling['Runs']=ipl_alltime.loc[:,['bowler','total_run']].groupby('bowler').sum()['total_run']\n",
    "ipl_bowling['wickets']=ipl_wicketsfinal['isWicketDelivery']\n",
    "ipl_bowling['wickets'].fillna(0,inplace=True)\n",
    "ipl_bowling['bpw']=round(ipl_bowling['count']/ipl_bowling['wickets'],2)\n",
    "ipl_bowling['economy']=round(ipl_bowling['Runs']/ipl_bowling['count']*6,2)\n",
    "\n",
    "ipl_bowling.sort_values(by='wickets',ascending=False)"
   ]
  },
  {
   "cell_type": "code",
   "execution_count": null,
   "metadata": {},
   "outputs": [],
   "source": [
    "# From the record we now analyse which IPL bowler bowls the least no. of balls to claim a wicket and which bowler bowls more economically? ,the result of the analysis in the form of graphs is as shown:"
   ]
  },
  {
   "cell_type": "code",
   "execution_count": null,
   "metadata": {},
   "outputs": [],
   "source": [
    "\n",
    "x6=ipl_bowling[ipl_bowling['count']>1000].sort_values(by='bpw').iloc[0:10,:]['bpw']\n",
    "\n",
    "\n",
    "x7=ipl_bowling[ipl_bowling['count']>1000].sort_values(by='economy').iloc[0:10,:]['economy']"
   ]
  },
  {
   "cell_type": "code",
   "execution_count": null,
   "metadata": {},
   "outputs": [],
   "source": [
    "fig = make_subplots(rows=1, cols=2,\n",
    "                   subplot_titles=(\"Avg. balls per wicket\",\"Most economical bowlers\"))\n",
    "\n",
    "fig.add_trace(go.Bar(x=x6.index,\n",
    "                     y=x6),\n",
    "              row=1, \n",
    "              col=1)\n",
    "\n",
    "fig.add_trace(go.Bar(x=x7.index,\n",
    "                     y=x7),\n",
    "              row=1,\n",
    "              col=2)\n",
    "fig.show()"
   ]
  },
  {
   "cell_type": "code",
   "execution_count": null,
   "metadata": {},
   "outputs": [],
   "source": []
  },
  {
   "cell_type": "code",
   "execution_count": null,
   "metadata": {},
   "outputs": [],
   "source": []
  },
  {
   "cell_type": "code",
   "execution_count": null,
   "metadata": {},
   "outputs": [],
   "source": []
  }
 ],
 "metadata": {
  "kernelspec": {
   "display_name": "Python 3",
   "language": "python",
   "name": "python3"
  },
  "language_info": {
   "codemirror_mode": {
    "name": "ipython",
    "version": 3
   },
   "file_extension": ".py",
   "mimetype": "text/x-python",
   "name": "python",
   "nbconvert_exporter": "python",
   "pygments_lexer": "ipython3",
   "version": "3.10.11"
  },
  "orig_nbformat": 4
 },
 "nbformat": 4,
 "nbformat_minor": 2
}
